{
 "cells": [
  {
   "cell_type": "code",
   "execution_count": 1,
   "id": "5ac5096c",
   "metadata": {},
   "outputs": [],
   "source": [
    "import os\n",
    "import sys\n",
    "import numpy as np\n",
    "import h5py"
   ]
  },
  {
   "cell_type": "code",
   "execution_count": null,
   "id": "142f4a8d",
   "metadata": {},
   "outputs": [],
   "source": [
    "def extract_all_hdf5_files_from_dir(dir: str):\n",
    "    \"\"\"\n",
    "    Extract all HDF5 files from the given directory and its subdirectories.\n",
    "    \"\"\"\n",
    "    hdf5_files = []\n",
    "    for root, dirs, files in os.walk(dir):\n",
    "        for file in files:\n",
    "            if file.endswith('.h5') or file.endswith('.hdf5'):\n",
    "                hdf5_files.append(os.path.join(root, file))\n",
    "    return hdf5_files"
   ]
  },
  {
   "cell_type": "code",
   "execution_count": 3,
   "id": "4fb2f889",
   "metadata": {},
   "outputs": [
    {
     "name": "stdout",
     "output_type": "stream",
     "text": [
      "(93, 3, 2, 20, 209)\n"
     ]
    }
   ],
   "source": [
    "f = h5py.File(os.path.join(os.getcwd(), \"data\", \"results\", \"csave.h5\"), 'r')\n",
    "d = f[\"csave\"][:]\n",
    "arr = np.array(d)\n",
    "print(arr.shape)\n",
    "f.close()\n",
    "\n",
    "np.save(os.path.join(os.getcwd(), \"data\",\"csave.npy\"), arr)"
   ]
  }
 ],
 "metadata": {
  "kernelspec": {
   "display_name": "venv",
   "language": "python",
   "name": "python3"
  },
  "language_info": {
   "codemirror_mode": {
    "name": "ipython",
    "version": 3
   },
   "file_extension": ".py",
   "mimetype": "text/x-python",
   "name": "python",
   "nbconvert_exporter": "python",
   "pygments_lexer": "ipython3",
   "version": "3.11.0"
  }
 },
 "nbformat": 4,
 "nbformat_minor": 5
}
